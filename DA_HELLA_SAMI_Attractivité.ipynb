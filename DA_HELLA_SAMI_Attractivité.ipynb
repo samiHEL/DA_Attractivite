{
  "nbformat": 4,
  "nbformat_minor": 0,
  "metadata": {
    "colab": {
      "provenance": [],
      "collapsed_sections": [],
      "mount_file_id": "1JO_ydsUnH_5IZnKu1Bk5oKCcxGaupH2j",
      "authorship_tag": "ABX9TyM0WDS7v/+tVgSXOTmvGnza",
      "include_colab_link": true
    },
    "kernelspec": {
      "name": "python3",
      "display_name": "Python 3"
    },
    "language_info": {
      "name": "python"
    }
  },
  "cells": [
    {
      "cell_type": "markdown",
      "metadata": {
        "id": "view-in-github",
        "colab_type": "text"
      },
      "source": [
        "<a href=\"https://colab.research.google.com/github/samiHEL/DA_Attractivite/blob/main/DA_HELLA_SAMI_Attractivit%C3%A9.ipynb\" target=\"_parent\"><img src=\"https://colab.research.google.com/assets/colab-badge.svg\" alt=\"Open In Colab\"/></a>"
      ]
    },
    {
      "cell_type": "code",
      "execution_count": 4,
      "metadata": {
        "colab": {
          "base_uri": "https://localhost:8080/"
        },
        "id": "gx2G6-chJ38D",
        "outputId": "7af3fdc3-f06f-4ff0-e72d-b388e21cc98c"
      },
      "outputs": [
        {
          "output_type": "stream",
          "name": "stdout",
          "text": [
            "Drive already mounted at /content/drive; to attempt to forcibly remount, call drive.mount(\"/content/drive\", force_remount=True).\n"
          ]
        }
      ],
      "source": [
        "from google.colab import drive\n",
        "drive.mount('/content/drive')"
      ]
    },
    {
      "cell_type": "code",
      "source": [
        "import pandas as pd\n",
        "# import numpy as np\n",
        "import seaborn \n",
        "import matplotlib.pyplot as plot\n",
        "\n",
        "data = pd.read_csv(r'/content/drive/MyDrive/lovoo_v3_users_api-results.csv')\n",
        "data"
      ],
      "metadata": {
        "colab": {
          "base_uri": "https://localhost:8080/",
          "height": 696
        },
        "id": "pbQ4A0l4KsZB",
        "outputId": "876e6cf1-752e-4e5d-d0cf-82ec21675a19"
      },
      "execution_count": 5,
      "outputs": [
        {
          "output_type": "execute_result",
          "data": {
            "text/plain": [
              "     gender genderLooking  age          name  counts_details  counts_pictures  \\\n",
              "0         F             M   25         daeni            1.00                4   \n",
              "1         F             M   22   italiana 92            0.85                5   \n",
              "2         F             M   21       Lauraaa            0.00                4   \n",
              "3         F          none   20    Qqkwmdowlo            0.12                3   \n",
              "4         F             M   21  schaessie {3            0.15               12   \n",
              "...     ...           ...  ...           ...             ...              ...   \n",
              "3987      F             M   22        Ser**a            0.85                6   \n",
              "3988      F             M   24        Mon**a            1.00                7   \n",
              "3989      F             M   20         Fa**y            0.90                4   \n",
              "3990      F             M   20         Fa**y            0.90                4   \n",
              "3991      F             M   20         Fa**y            0.90                4   \n",
              "\n",
              "      counts_profileVisits  counts_kisses  counts_fans  counts_g  ...  \\\n",
              "0                     8279            239            0         3  ...   \n",
              "1                      663             13            0         0  ...   \n",
              "2                     1369             88            0         2  ...   \n",
              "3                    22187           1015            2         3  ...   \n",
              "4                    35262           1413            9        12  ...   \n",
              "...                    ...            ...          ...       ...  ...   \n",
              "3987                  1003             98            0         0  ...   \n",
              "3988                  6890            563            0         0  ...   \n",
              "3989                  1157             52            1         0  ...   \n",
              "3990                  1157             52            1         0  ...   \n",
              "3991                  1157             52            1         0  ...   \n",
              "\n",
              "      shareProfileEnabled        lastOnlineDate  lastOnlineTime birthd crypt  \\\n",
              "0                       1  2015-04-25T20:43:26Z    1.429995e+09      0   NaN   \n",
              "1                       1  2015-04-26T09:19:35Z    1.430040e+09      0   NaN   \n",
              "2                       1  2015-04-06T14:24:07Z    1.428330e+09      0   NaN   \n",
              "3                       1  2015-04-07T11:21:01Z    1.428406e+09      0   NaN   \n",
              "4                       1  2015-04-06T14:25:20Z    1.428330e+09      0   NaN   \n",
              "...                   ...                   ...             ...    ...   ...   \n",
              "3987                    1  2015-04-05T07:13:49Z    1.428218e+09      0   1.0   \n",
              "3988                    1  2015-04-19T11:00:59Z    1.429441e+09      0   1.0   \n",
              "3989                    1  2015-04-19T08:37:52Z    1.429433e+09      0   1.0   \n",
              "3990                    1  2015-04-19T08:37:52Z    1.429433e+09      0   1.0   \n",
              "3991                    1  2015-04-19T08:37:52Z    1.429433e+09      0   1.0   \n",
              "\n",
              "                                    freetext  \\\n",
              "0     Nur tote Fisch schwimmen mit dem Strom   \n",
              "1                                        NaN   \n",
              "2                                        NaN   \n",
              "3                                        NaN   \n",
              "4                                        NaN   \n",
              "...                                      ...   \n",
              "3987                                     NaN   \n",
              "3988                                     NaN   \n",
              "3989                                     NaN   \n",
              "3990                                     NaN   \n",
              "3991                                     NaN   \n",
              "\n",
              "                                            whazzup  \\\n",
              "0           Nur tote fische schwimmen mit dem strom   \n",
              "1                                     Primaveraaa<3   \n",
              "2                                               NaN   \n",
              "3          Je pense donc je suis.  Instagram quedev   \n",
              "4                             Instagram: JESSSIESCH   \n",
              "...                                             ...   \n",
              "3987                               Fiesta and sport   \n",
              "3988  tous des créatures de Dieu, y'a pas de VIP!!!   \n",
              "3989                                            NaN   \n",
              "3990                                            NaN   \n",
              "3991                                            NaN   \n",
              "\n",
              "                                                 userId  \\\n",
              "0                              4e3842f79b70e7ea57000064   \n",
              "1                              4e3d34bf5d2bce7b160006a3   \n",
              "2                              4ec96c090dc82cb25d00000a   \n",
              "3                              4eef8b81ebf2c8f64000000c   \n",
              "4                              4ef3cc5aa9d0b3d07d000017   \n",
              "...                                                 ...   \n",
              "3987  CRYu9vQnJ8lHU2pVpimKJGIyTHqR73rAu8hg21rtn340Ys...   \n",
              "3988  CRYuikFTcdFDsGDJugu3PyvSonM1LYwyviJXvZBUayBMgI...   \n",
              "3989  CRYv9Qg5MTSHaqrTK2CMe9cPRNACAFdYDi7BEgoQTyljzz...   \n",
              "3990  CRYwD9ZmbjDXJu8li2DPXI0UseBJt2lovQBWnbKcGDVVcs...   \n",
              "3991  CRYy3Jyp0eCGRSc1WeQQOIYKh3KP6JnmWUeJRLnFXhLt5r...   \n",
              "\n",
              "                             pictureId  isSystemProfile  \n",
              "0             55303fc3160ba0eb728b4575              NaN  \n",
              "1             552e7b61c66da10d1e8b4c82              NaN  \n",
              "2             54a584ecc56da128638b4674              NaN  \n",
              "3             54c92738076ea1b5338b4735              NaN  \n",
              "4             54e1a6f6c76da135748b4a3a              NaN  \n",
              "...                                ...              ...  \n",
              "3987  405009d5e3983c4cd863ae43fd6356a0              NaN  \n",
              "3988  7e0ddbdb1bd293c96d4a5ec5d0466923              NaN  \n",
              "3989  768ddd66fd1df8a05c2f27505eb1c710              NaN  \n",
              "3990  768ddd66fd1df8a05c2f27505eb1c710              NaN  \n",
              "3991  768ddd66fd1df8a05c2f27505eb1c710              NaN  \n",
              "\n",
              "[3992 rows x 42 columns]"
            ],
            "text/html": [
              "\n",
              "  <div id=\"df-28bcae75-318a-4d12-a682-857d54748e85\">\n",
              "    <div class=\"colab-df-container\">\n",
              "      <div>\n",
              "<style scoped>\n",
              "    .dataframe tbody tr th:only-of-type {\n",
              "        vertical-align: middle;\n",
              "    }\n",
              "\n",
              "    .dataframe tbody tr th {\n",
              "        vertical-align: top;\n",
              "    }\n",
              "\n",
              "    .dataframe thead th {\n",
              "        text-align: right;\n",
              "    }\n",
              "</style>\n",
              "<table border=\"1\" class=\"dataframe\">\n",
              "  <thead>\n",
              "    <tr style=\"text-align: right;\">\n",
              "      <th></th>\n",
              "      <th>gender</th>\n",
              "      <th>genderLooking</th>\n",
              "      <th>age</th>\n",
              "      <th>name</th>\n",
              "      <th>counts_details</th>\n",
              "      <th>counts_pictures</th>\n",
              "      <th>counts_profileVisits</th>\n",
              "      <th>counts_kisses</th>\n",
              "      <th>counts_fans</th>\n",
              "      <th>counts_g</th>\n",
              "      <th>...</th>\n",
              "      <th>shareProfileEnabled</th>\n",
              "      <th>lastOnlineDate</th>\n",
              "      <th>lastOnlineTime</th>\n",
              "      <th>birthd</th>\n",
              "      <th>crypt</th>\n",
              "      <th>freetext</th>\n",
              "      <th>whazzup</th>\n",
              "      <th>userId</th>\n",
              "      <th>pictureId</th>\n",
              "      <th>isSystemProfile</th>\n",
              "    </tr>\n",
              "  </thead>\n",
              "  <tbody>\n",
              "    <tr>\n",
              "      <th>0</th>\n",
              "      <td>F</td>\n",
              "      <td>M</td>\n",
              "      <td>25</td>\n",
              "      <td>daeni</td>\n",
              "      <td>1.00</td>\n",
              "      <td>4</td>\n",
              "      <td>8279</td>\n",
              "      <td>239</td>\n",
              "      <td>0</td>\n",
              "      <td>3</td>\n",
              "      <td>...</td>\n",
              "      <td>1</td>\n",
              "      <td>2015-04-25T20:43:26Z</td>\n",
              "      <td>1.429995e+09</td>\n",
              "      <td>0</td>\n",
              "      <td>NaN</td>\n",
              "      <td>Nur tote Fisch schwimmen mit dem Strom</td>\n",
              "      <td>Nur tote fische schwimmen mit dem strom</td>\n",
              "      <td>4e3842f79b70e7ea57000064</td>\n",
              "      <td>55303fc3160ba0eb728b4575</td>\n",
              "      <td>NaN</td>\n",
              "    </tr>\n",
              "    <tr>\n",
              "      <th>1</th>\n",
              "      <td>F</td>\n",
              "      <td>M</td>\n",
              "      <td>22</td>\n",
              "      <td>italiana 92</td>\n",
              "      <td>0.85</td>\n",
              "      <td>5</td>\n",
              "      <td>663</td>\n",
              "      <td>13</td>\n",
              "      <td>0</td>\n",
              "      <td>0</td>\n",
              "      <td>...</td>\n",
              "      <td>1</td>\n",
              "      <td>2015-04-26T09:19:35Z</td>\n",
              "      <td>1.430040e+09</td>\n",
              "      <td>0</td>\n",
              "      <td>NaN</td>\n",
              "      <td>NaN</td>\n",
              "      <td>Primaveraaa&lt;3</td>\n",
              "      <td>4e3d34bf5d2bce7b160006a3</td>\n",
              "      <td>552e7b61c66da10d1e8b4c82</td>\n",
              "      <td>NaN</td>\n",
              "    </tr>\n",
              "    <tr>\n",
              "      <th>2</th>\n",
              "      <td>F</td>\n",
              "      <td>M</td>\n",
              "      <td>21</td>\n",
              "      <td>Lauraaa</td>\n",
              "      <td>0.00</td>\n",
              "      <td>4</td>\n",
              "      <td>1369</td>\n",
              "      <td>88</td>\n",
              "      <td>0</td>\n",
              "      <td>2</td>\n",
              "      <td>...</td>\n",
              "      <td>1</td>\n",
              "      <td>2015-04-06T14:24:07Z</td>\n",
              "      <td>1.428330e+09</td>\n",
              "      <td>0</td>\n",
              "      <td>NaN</td>\n",
              "      <td>NaN</td>\n",
              "      <td>NaN</td>\n",
              "      <td>4ec96c090dc82cb25d00000a</td>\n",
              "      <td>54a584ecc56da128638b4674</td>\n",
              "      <td>NaN</td>\n",
              "    </tr>\n",
              "    <tr>\n",
              "      <th>3</th>\n",
              "      <td>F</td>\n",
              "      <td>none</td>\n",
              "      <td>20</td>\n",
              "      <td>Qqkwmdowlo</td>\n",
              "      <td>0.12</td>\n",
              "      <td>3</td>\n",
              "      <td>22187</td>\n",
              "      <td>1015</td>\n",
              "      <td>2</td>\n",
              "      <td>3</td>\n",
              "      <td>...</td>\n",
              "      <td>1</td>\n",
              "      <td>2015-04-07T11:21:01Z</td>\n",
              "      <td>1.428406e+09</td>\n",
              "      <td>0</td>\n",
              "      <td>NaN</td>\n",
              "      <td>NaN</td>\n",
              "      <td>Je pense donc je suis.  Instagram quedev</td>\n",
              "      <td>4eef8b81ebf2c8f64000000c</td>\n",
              "      <td>54c92738076ea1b5338b4735</td>\n",
              "      <td>NaN</td>\n",
              "    </tr>\n",
              "    <tr>\n",
              "      <th>4</th>\n",
              "      <td>F</td>\n",
              "      <td>M</td>\n",
              "      <td>21</td>\n",
              "      <td>schaessie {3</td>\n",
              "      <td>0.15</td>\n",
              "      <td>12</td>\n",
              "      <td>35262</td>\n",
              "      <td>1413</td>\n",
              "      <td>9</td>\n",
              "      <td>12</td>\n",
              "      <td>...</td>\n",
              "      <td>1</td>\n",
              "      <td>2015-04-06T14:25:20Z</td>\n",
              "      <td>1.428330e+09</td>\n",
              "      <td>0</td>\n",
              "      <td>NaN</td>\n",
              "      <td>NaN</td>\n",
              "      <td>Instagram: JESSSIESCH</td>\n",
              "      <td>4ef3cc5aa9d0b3d07d000017</td>\n",
              "      <td>54e1a6f6c76da135748b4a3a</td>\n",
              "      <td>NaN</td>\n",
              "    </tr>\n",
              "    <tr>\n",
              "      <th>...</th>\n",
              "      <td>...</td>\n",
              "      <td>...</td>\n",
              "      <td>...</td>\n",
              "      <td>...</td>\n",
              "      <td>...</td>\n",
              "      <td>...</td>\n",
              "      <td>...</td>\n",
              "      <td>...</td>\n",
              "      <td>...</td>\n",
              "      <td>...</td>\n",
              "      <td>...</td>\n",
              "      <td>...</td>\n",
              "      <td>...</td>\n",
              "      <td>...</td>\n",
              "      <td>...</td>\n",
              "      <td>...</td>\n",
              "      <td>...</td>\n",
              "      <td>...</td>\n",
              "      <td>...</td>\n",
              "      <td>...</td>\n",
              "      <td>...</td>\n",
              "    </tr>\n",
              "    <tr>\n",
              "      <th>3987</th>\n",
              "      <td>F</td>\n",
              "      <td>M</td>\n",
              "      <td>22</td>\n",
              "      <td>Ser**a</td>\n",
              "      <td>0.85</td>\n",
              "      <td>6</td>\n",
              "      <td>1003</td>\n",
              "      <td>98</td>\n",
              "      <td>0</td>\n",
              "      <td>0</td>\n",
              "      <td>...</td>\n",
              "      <td>1</td>\n",
              "      <td>2015-04-05T07:13:49Z</td>\n",
              "      <td>1.428218e+09</td>\n",
              "      <td>0</td>\n",
              "      <td>1.0</td>\n",
              "      <td>NaN</td>\n",
              "      <td>Fiesta and sport</td>\n",
              "      <td>CRYu9vQnJ8lHU2pVpimKJGIyTHqR73rAu8hg21rtn340Ys...</td>\n",
              "      <td>405009d5e3983c4cd863ae43fd6356a0</td>\n",
              "      <td>NaN</td>\n",
              "    </tr>\n",
              "    <tr>\n",
              "      <th>3988</th>\n",
              "      <td>F</td>\n",
              "      <td>M</td>\n",
              "      <td>24</td>\n",
              "      <td>Mon**a</td>\n",
              "      <td>1.00</td>\n",
              "      <td>7</td>\n",
              "      <td>6890</td>\n",
              "      <td>563</td>\n",
              "      <td>0</td>\n",
              "      <td>0</td>\n",
              "      <td>...</td>\n",
              "      <td>1</td>\n",
              "      <td>2015-04-19T11:00:59Z</td>\n",
              "      <td>1.429441e+09</td>\n",
              "      <td>0</td>\n",
              "      <td>1.0</td>\n",
              "      <td>NaN</td>\n",
              "      <td>tous des créatures de Dieu, y'a pas de VIP!!!</td>\n",
              "      <td>CRYuikFTcdFDsGDJugu3PyvSonM1LYwyviJXvZBUayBMgI...</td>\n",
              "      <td>7e0ddbdb1bd293c96d4a5ec5d0466923</td>\n",
              "      <td>NaN</td>\n",
              "    </tr>\n",
              "    <tr>\n",
              "      <th>3989</th>\n",
              "      <td>F</td>\n",
              "      <td>M</td>\n",
              "      <td>20</td>\n",
              "      <td>Fa**y</td>\n",
              "      <td>0.90</td>\n",
              "      <td>4</td>\n",
              "      <td>1157</td>\n",
              "      <td>52</td>\n",
              "      <td>1</td>\n",
              "      <td>0</td>\n",
              "      <td>...</td>\n",
              "      <td>1</td>\n",
              "      <td>2015-04-19T08:37:52Z</td>\n",
              "      <td>1.429433e+09</td>\n",
              "      <td>0</td>\n",
              "      <td>1.0</td>\n",
              "      <td>NaN</td>\n",
              "      <td>NaN</td>\n",
              "      <td>CRYv9Qg5MTSHaqrTK2CMe9cPRNACAFdYDi7BEgoQTyljzz...</td>\n",
              "      <td>768ddd66fd1df8a05c2f27505eb1c710</td>\n",
              "      <td>NaN</td>\n",
              "    </tr>\n",
              "    <tr>\n",
              "      <th>3990</th>\n",
              "      <td>F</td>\n",
              "      <td>M</td>\n",
              "      <td>20</td>\n",
              "      <td>Fa**y</td>\n",
              "      <td>0.90</td>\n",
              "      <td>4</td>\n",
              "      <td>1157</td>\n",
              "      <td>52</td>\n",
              "      <td>1</td>\n",
              "      <td>0</td>\n",
              "      <td>...</td>\n",
              "      <td>1</td>\n",
              "      <td>2015-04-19T08:37:52Z</td>\n",
              "      <td>1.429433e+09</td>\n",
              "      <td>0</td>\n",
              "      <td>1.0</td>\n",
              "      <td>NaN</td>\n",
              "      <td>NaN</td>\n",
              "      <td>CRYwD9ZmbjDXJu8li2DPXI0UseBJt2lovQBWnbKcGDVVcs...</td>\n",
              "      <td>768ddd66fd1df8a05c2f27505eb1c710</td>\n",
              "      <td>NaN</td>\n",
              "    </tr>\n",
              "    <tr>\n",
              "      <th>3991</th>\n",
              "      <td>F</td>\n",
              "      <td>M</td>\n",
              "      <td>20</td>\n",
              "      <td>Fa**y</td>\n",
              "      <td>0.90</td>\n",
              "      <td>4</td>\n",
              "      <td>1157</td>\n",
              "      <td>52</td>\n",
              "      <td>1</td>\n",
              "      <td>0</td>\n",
              "      <td>...</td>\n",
              "      <td>1</td>\n",
              "      <td>2015-04-19T08:37:52Z</td>\n",
              "      <td>1.429433e+09</td>\n",
              "      <td>0</td>\n",
              "      <td>1.0</td>\n",
              "      <td>NaN</td>\n",
              "      <td>NaN</td>\n",
              "      <td>CRYy3Jyp0eCGRSc1WeQQOIYKh3KP6JnmWUeJRLnFXhLt5r...</td>\n",
              "      <td>768ddd66fd1df8a05c2f27505eb1c710</td>\n",
              "      <td>NaN</td>\n",
              "    </tr>\n",
              "  </tbody>\n",
              "</table>\n",
              "<p>3992 rows × 42 columns</p>\n",
              "</div>\n",
              "      <button class=\"colab-df-convert\" onclick=\"convertToInteractive('df-28bcae75-318a-4d12-a682-857d54748e85')\"\n",
              "              title=\"Convert this dataframe to an interactive table.\"\n",
              "              style=\"display:none;\">\n",
              "        \n",
              "  <svg xmlns=\"http://www.w3.org/2000/svg\" height=\"24px\"viewBox=\"0 0 24 24\"\n",
              "       width=\"24px\">\n",
              "    <path d=\"M0 0h24v24H0V0z\" fill=\"none\"/>\n",
              "    <path d=\"M18.56 5.44l.94 2.06.94-2.06 2.06-.94-2.06-.94-.94-2.06-.94 2.06-2.06.94zm-11 1L8.5 8.5l.94-2.06 2.06-.94-2.06-.94L8.5 2.5l-.94 2.06-2.06.94zm10 10l.94 2.06.94-2.06 2.06-.94-2.06-.94-.94-2.06-.94 2.06-2.06.94z\"/><path d=\"M17.41 7.96l-1.37-1.37c-.4-.4-.92-.59-1.43-.59-.52 0-1.04.2-1.43.59L10.3 9.45l-7.72 7.72c-.78.78-.78 2.05 0 2.83L4 21.41c.39.39.9.59 1.41.59.51 0 1.02-.2 1.41-.59l7.78-7.78 2.81-2.81c.8-.78.8-2.07 0-2.86zM5.41 20L4 18.59l7.72-7.72 1.47 1.35L5.41 20z\"/>\n",
              "  </svg>\n",
              "      </button>\n",
              "      \n",
              "  <style>\n",
              "    .colab-df-container {\n",
              "      display:flex;\n",
              "      flex-wrap:wrap;\n",
              "      gap: 12px;\n",
              "    }\n",
              "\n",
              "    .colab-df-convert {\n",
              "      background-color: #E8F0FE;\n",
              "      border: none;\n",
              "      border-radius: 50%;\n",
              "      cursor: pointer;\n",
              "      display: none;\n",
              "      fill: #1967D2;\n",
              "      height: 32px;\n",
              "      padding: 0 0 0 0;\n",
              "      width: 32px;\n",
              "    }\n",
              "\n",
              "    .colab-df-convert:hover {\n",
              "      background-color: #E2EBFA;\n",
              "      box-shadow: 0px 1px 2px rgba(60, 64, 67, 0.3), 0px 1px 3px 1px rgba(60, 64, 67, 0.15);\n",
              "      fill: #174EA6;\n",
              "    }\n",
              "\n",
              "    [theme=dark] .colab-df-convert {\n",
              "      background-color: #3B4455;\n",
              "      fill: #D2E3FC;\n",
              "    }\n",
              "\n",
              "    [theme=dark] .colab-df-convert:hover {\n",
              "      background-color: #434B5C;\n",
              "      box-shadow: 0px 1px 3px 1px rgba(0, 0, 0, 0.15);\n",
              "      filter: drop-shadow(0px 1px 2px rgba(0, 0, 0, 0.3));\n",
              "      fill: #FFFFFF;\n",
              "    }\n",
              "  </style>\n",
              "\n",
              "      <script>\n",
              "        const buttonEl =\n",
              "          document.querySelector('#df-28bcae75-318a-4d12-a682-857d54748e85 button.colab-df-convert');\n",
              "        buttonEl.style.display =\n",
              "          google.colab.kernel.accessAllowed ? 'block' : 'none';\n",
              "\n",
              "        async function convertToInteractive(key) {\n",
              "          const element = document.querySelector('#df-28bcae75-318a-4d12-a682-857d54748e85');\n",
              "          const dataTable =\n",
              "            await google.colab.kernel.invokeFunction('convertToInteractive',\n",
              "                                                     [key], {});\n",
              "          if (!dataTable) return;\n",
              "\n",
              "          const docLinkHtml = 'Like what you see? Visit the ' +\n",
              "            '<a target=\"_blank\" href=https://colab.research.google.com/notebooks/data_table.ipynb>data table notebook</a>'\n",
              "            + ' to learn more about interactive tables.';\n",
              "          element.innerHTML = '';\n",
              "          dataTable['output_type'] = 'display_data';\n",
              "          await google.colab.output.renderOutput(dataTable, element);\n",
              "          const docLink = document.createElement('div');\n",
              "          docLink.innerHTML = docLinkHtml;\n",
              "          element.appendChild(docLink);\n",
              "        }\n",
              "      </script>\n",
              "    </div>\n",
              "  </div>\n",
              "  "
            ]
          },
          "metadata": {},
          "execution_count": 5
        }
      ]
    },
    {
      "cell_type": "markdown",
      "source": [
        "Caracteristiques cible: ce qui va définir l'attractivité d'un utilisateur : \t\n",
        "\n",
        "*   counts_profileVisits \n",
        "*   counts_kisses \n",
        "*   counts_fans\t \t \n",
        "\n",
        "\n",
        "explicatives:\n",
        "\n",
        "\n",
        "*   age ?\n",
        "*   time online ?\n",
        "*   Country ?\n",
        "*   Count Detail ?\n",
        "*   nb_Picture ?\n",
        "*   nb_langue ?\n",
        "*   Compte verifié ?\n",
        "\n",
        "\n"
      ],
      "metadata": {
        "id": "RgO2qsObP3Q9"
      }
    },
    {
      "cell_type": "markdown",
      "source": [
        "# Tester le lien entre les 3 caracteristiques principales :"
      ],
      "metadata": {
        "id": "fWW4xv9WRxwz"
      }
    },
    {
      "cell_type": "code",
      "source": [
        "df = pd.DataFrame(data=data, columns=['counts_kisses','counts_profileVisits'])\n",
        "seaborn.relplot(x=df[\"counts_kisses\"], y=df[\"counts_profileVisits\"], s = 100)\n",
        "plot.show(); "
      ],
      "metadata": {
        "colab": {
          "base_uri": "https://localhost:8080/",
          "height": 370
        },
        "id": "ZvVZZDOnO27J",
        "outputId": "5cb8d21a-a673-4c6b-b7d7-742ab0b36658"
      },
      "execution_count": 129,
      "outputs": [
        {
          "output_type": "display_data",
          "data": {
            "text/plain": [
              "<Figure size 360x360 with 1 Axes>"
            ],
            "image/png": "[encoded data removed]"
          },
          "metadata": {
            "needs_background": "light"
          }
        }
      ]
    },
    {
      "cell_type": "markdown",
      "source": [
        "Trés bonne corelation entre 'counts_kisses' et 'counts_profileVisits' proche de 1 ... 0,9"
      ],
      "metadata": {
        "id": "L0i3cfAeTjtk"
      }
    },
    {
      "cell_type": "code",
      "source": [
        "df = pd.DataFrame(data=data, columns=['counts_fans','counts_kisses'])\n",
        "seaborn.relplot(x=df[\"counts_fans\"], y=df[\"counts_kisses\"], s = 100)\n",
        "plot.show(); "
      ],
      "metadata": {
        "colab": {
          "base_uri": "https://localhost:8080/",
          "height": 370
        },
        "id": "BdHy4dqdR-HB",
        "outputId": "45a4664d-f40b-45c0-c775-86a4f3664408"
      },
      "execution_count": 130,
      "outputs": [
        {
          "output_type": "display_data",
          "data": {
            "text/plain": [
              "<Figure size 360x360 with 1 Axes>"
            ],
            "image/png": "[encoded data removed]"
          },
          "metadata": {
            "needs_background": "light"
          }
        }
      ]
    },
    {
      "cell_type": "markdown",
      "source": [
        "Corelation tres basse, les 'counts_fans' n'influent pas sur les autres caracteristiques principales."
      ],
      "metadata": {
        "id": "XhQ7-dY9TzPy"
      }
    },
    {
      "cell_type": "code",
      "source": [
        "df = pd.DataFrame(data=data, columns=['counts_kisses','counts_profileVisits','counts_fans'])\n",
        "corr=df.corr()\n",
        "f, ax = plot.subplots(figsize=(20,5))\n",
        "seaborn.heatmap(corr, annot=True, ax =ax)\n",
        "plot.savefig('heatmapEX1.png')"
      ],
      "metadata": {
        "colab": {
          "base_uri": "https://localhost:8080/",
          "height": 325
        },
        "id": "n9QCz8ooTGsQ",
        "outputId": "95835b5e-3b39-48f4-d07b-82b423b7dbeb"
      },
      "execution_count": 131,
      "outputs": [
        {
          "output_type": "display_data",
          "data": {
            "text/plain": [
              "<Figure size 1440x360 with 2 Axes>"
            ],
            "image/png": "[encoded data removed]"
          },
          "metadata": {
            "needs_background": "light"
          }
        }
      ]
    },
    {
      "cell_type": "markdown",
      "source": [
        "Corelation de 0,89 entre Nombre de vue et like.\n",
        "Ce heatmap confirme l'idée que nous allons baser l'attractivité sur le nombre de like et de vue de profil."
      ],
      "metadata": {
        "id": "t5i13J5zUGzE"
      }
    },
    {
      "cell_type": "markdown",
      "source": [
        "# Qu'est ce qui influe sur le nombre de like et de vue de profil ??"
      ],
      "metadata": {
        "id": "QIc2x3GcUeh1"
      }
    },
    {
      "cell_type": "markdown",
      "source": [
        "Le nombre de photo:"
      ],
      "metadata": {
        "id": "g58LGe6Gl9_b"
      }
    },
    {
      "cell_type": "code",
      "source": [
        "df = pd.DataFrame(data=data, columns=['counts_pictures','counts_profileVisits'])\n",
        "seaborn.lineplot(x=df[\"counts_pictures\"], y=df[\"counts_profileVisits\"])\n",
        "plot.show(); \n"
      ],
      "metadata": {
        "colab": {
          "base_uri": "https://localhost:8080/",
          "height": 280
        },
        "id": "G1vdijaQUm-2",
        "outputId": "4c9161f5-a29f-408c-9a61-b309422bfa42"
      },
      "execution_count": 132,
      "outputs": [
        {
          "output_type": "display_data",
          "data": {
            "text/plain": [
              "<Figure size 432x288 with 1 Axes>"
            ],
            "image/png": "[encoded data removed]"
          },
          "metadata": {
            "needs_background": "light"
          }
        }
      ]
    },
    {
      "cell_type": "code",
      "source": [
        "df = pd.DataFrame(data=data, columns=['counts_pictures','counts_profileVisits']) \n",
        "# df[(df['counts_pictures'] < 15) ].plot.scatter(x = 'counts_pictures', y = 'counts_kisses');\n",
        "seaborn.catplot(x=\"counts_pictures\", y=\"counts_profileVisits\", data= df, kind=\"bar\", height=10)"
      ],
      "metadata": {
        "colab": {
          "base_uri": "https://localhost:8080/",
          "height": 746
        },
        "id": "KOR4CwfwclOC",
        "outputId": "4268ac41-9a52-4cef-fe58-40774802105a"
      },
      "execution_count": 6,
      "outputs": [
        {
          "output_type": "execute_result",
          "data": {
            "text/plain": [
              "<seaborn.axisgrid.FacetGrid at 0x7f1d38648910>"
            ]
          },
          "metadata": {},
          "execution_count": 6
        },
        {
          "output_type": "display_data",
          "data": {
            "text/plain": [
              "<Figure size 720x720 with 1 Axes>"
            ],
            "image/png": "[encoded data removed]"
          },
          "metadata": {
            "needs_background": "light"
          }
        }
      ]
    },
    {
      "cell_type": "markdown",
      "source": [
        "Le nombre de match"
      ],
      "metadata": {
        "id": "vMEhRBjGs3zj"
      }
    },
    {
      "cell_type": "code",
      "source": [
        "df = pd.DataFrame(data=data, columns=['counts_pictures','counts_kisses'])\n",
        "seaborn.lineplot(x=df[\"counts_pictures\"], y=df[\"counts_kisses\"])\n",
        "plot.show(); "
      ],
      "metadata": {
        "colab": {
          "base_uri": "https://localhost:8080/",
          "height": 280
        },
        "id": "SOZmEhkjYj7d",
        "outputId": "a079bc59-54e2-427f-ad2d-40b1f3d91d56"
      },
      "execution_count": 133,
      "outputs": [
        {
          "output_type": "display_data",
          "data": {
            "text/plain": [
              "<Figure size 432x288 with 1 Axes>"
            ],
            "image/png": "[encoded data removed]"
          },
          "metadata": {
            "needs_background": "light"
          }
        }
      ]
    },
    {
      "cell_type": "code",
      "source": [
        "df = pd.DataFrame(data=data, columns=['counts_pictures','counts_kisses']) \n",
        "# df[(df['counts_pictures'] < 15) ].plot.scatter(x = 'counts_pictures', y = 'counts_kisses');\n",
        "seaborn.catplot(x=\"counts_pictures\", y=\"counts_kisses\", data= df, kind=\"bar\", height=10)"
      ],
      "metadata": {
        "colab": {
          "base_uri": "https://localhost:8080/",
          "height": 746
        },
        "id": "Q6szfDjUZKiY",
        "outputId": "857cc7a0-e69d-4a0e-9079-3cc7cb90ec8c"
      },
      "execution_count": 134,
      "outputs": [
        {
          "output_type": "execute_result",
          "data": {
            "text/plain": [
              "<seaborn.axisgrid.FacetGrid at 0x7fab03a85bd0>"
            ]
          },
          "metadata": {},
          "execution_count": 134
        },
        {
          "output_type": "display_data",
          "data": {
            "text/plain": [
              "<Figure size 720x720 with 1 Axes>"
            ],
            "image/png": "[encoded data removed]"
          },
          "metadata": {
            "needs_background": "light"
          }
        }
      ]
    },
    {
      "cell_type": "markdown",
      "source": [
        "Boite à moustache "
      ],
      "metadata": {
        "id": "BJ2oxUC7tBPY"
      }
    },
    {
      "cell_type": "code",
      "source": [
        "# if df[(df['counts_pictures'] < 2 )]: df['photo'] ='peu'\n",
        "# else:\n",
        "#   df['photo'] ='beaucoup'\n",
        "# seaborn.boxplot(data=df, x=\"counts_pictures\", y=\"counts_profileVisits\")\n",
        "df = pd.DataFrame(data=data, columns=['counts_profileVisits','counts_pictures'])\n",
        "df[\"counts_pictures\"].replace({0: \"peu\", 1: \"peu\",2: \"peu\",3: \"beaucoup\",4:\"beaucoup\",5: \"beaucoup\",6:\"beaucoup\",7: \"beaucoup\",8:\"beaucoup\",9: \"beaucoup\",10:\"beaucoup\",11: \"beaucoup\",12:\"beaucoup\",13: \"beaucoup\",14:\"beaucoup\",15: \"beaucoup\",16:\"beaucoup\",17: \"beaucoup\",18:\"beaucoup\",19: \"beaucoup\",20:\"beaucoup\",21: \"beaucoup\",22:\"beaucoup\",23: \"beaucoup\",24:\"beaucoup\",25: \"beaucoup\",26:\"beaucoup\",27: \"beaucoup\",28:\"beaucoup\",29: \"beaucoup\",30:\"beaucoup\"}, inplace=True)\n",
        "# plot.show()\n",
        "# df[\"counts_pictures\"]\n",
        "seaborn.boxplot(data=df, x=\"counts_profileVisits\", y=\"counts_pictures\",showfliers=False)"
      ],
      "metadata": {
        "colab": {
          "base_uri": "https://localhost:8080/",
          "height": 297
        },
        "id": "dkMxSYISdQr2",
        "outputId": "4d6f4130-43db-4c35-c678-0bdc3649f8f1"
      },
      "execution_count": 13,
      "outputs": [
        {
          "output_type": "execute_result",
          "data": {
            "text/plain": [
              "<matplotlib.axes._subplots.AxesSubplot at 0x7f1d35628d50>"
            ]
          },
          "metadata": {},
          "execution_count": 13
        },
        {
          "output_type": "display_data",
          "data": {
            "text/plain": [
              "<Figure size 432x288 with 1 Axes>"
            ],
            "image/png": "[encoded data removed]"
          },
          "metadata": {
            "needs_background": "light"
          }
        }
      ]
    },
    {
      "cell_type": "markdown",
      "source": [
        "mediane + importante pour user qui a plus de 2 photos"
      ],
      "metadata": {
        "id": "V7_J43pJsfxz"
      }
    },
    {
      "cell_type": "code",
      "source": [
        "df.describe()"
      ],
      "metadata": {
        "colab": {
          "base_uri": "https://localhost:8080/",
          "height": 300
        },
        "id": "urXEQ4TcqBJp",
        "outputId": "1d1c446c-45d6-40f9-d7df-58d0438b6fc3"
      },
      "execution_count": 14,
      "outputs": [
        {
          "output_type": "execute_result",
          "data": {
            "text/plain": [
              "       counts_profileVisits\n",
              "count           3992.000000\n",
              "mean            3705.467184\n",
              "std             6845.038330\n",
              "min                0.000000\n",
              "25%              383.000000\n",
              "50%             1222.000000\n",
              "75%             4063.250000\n",
              "max           164425.000000"
            ],
            "text/html": [
              "\n",
              "  <div id=\"df-a5b32d94-9b2c-4adf-b927-cd9ce35d55a5\">\n",
              "    <div class=\"colab-df-container\">\n",
              "      <div>\n",
              "<style scoped>\n",
              "    .dataframe tbody tr th:only-of-type {\n",
              "        vertical-align: middle;\n",
              "    }\n",
              "\n",
              "    .dataframe tbody tr th {\n",
              "        vertical-align: top;\n",
              "    }\n",
              "\n",
              "    .dataframe thead th {\n",
              "        text-align: right;\n",
              "    }\n",
              "</style>\n",
              "<table border=\"1\" class=\"dataframe\">\n",
              "  <thead>\n",
              "    <tr style=\"text-align: right;\">\n",
              "      <th></th>\n",
              "      <th>counts_profileVisits</th>\n",
              "    </tr>\n",
              "  </thead>\n",
              "  <tbody>\n",
              "    <tr>\n",
              "      <th>count</th>\n",
              "      <td>3992.000000</td>\n",
              "    </tr>\n",
              "    <tr>\n",
              "      <th>mean</th>\n",
              "      <td>3705.467184</td>\n",
              "    </tr>\n",
              "    <tr>\n",
              "      <th>std</th>\n",
              "      <td>6845.038330</td>\n",
              "    </tr>\n",
              "    <tr>\n",
              "      <th>min</th>\n",
              "      <td>0.000000</td>\n",
              "    </tr>\n",
              "    <tr>\n",
              "      <th>25%</th>\n",
              "      <td>383.000000</td>\n",
              "    </tr>\n",
              "    <tr>\n",
              "      <th>50%</th>\n",
              "      <td>1222.000000</td>\n",
              "    </tr>\n",
              "    <tr>\n",
              "      <th>75%</th>\n",
              "      <td>4063.250000</td>\n",
              "    </tr>\n",
              "    <tr>\n",
              "      <th>max</th>\n",
              "      <td>164425.000000</td>\n",
              "    </tr>\n",
              "  </tbody>\n",
              "</table>\n",
              "</div>\n",
              "      <button class=\"colab-df-convert\" onclick=\"convertToInteractive('df-a5b32d94-9b2c-4adf-b927-cd9ce35d55a5')\"\n",
              "              title=\"Convert this dataframe to an interactive table.\"\n",
              "              style=\"display:none;\">\n",
              "        \n",
              "  <svg xmlns=\"http://www.w3.org/2000/svg\" height=\"24px\"viewBox=\"0 0 24 24\"\n",
              "       width=\"24px\">\n",
              "    <path d=\"M0 0h24v24H0V0z\" fill=\"none\"/>\n",
              "    <path d=\"M18.56 5.44l.94 2.06.94-2.06 2.06-.94-2.06-.94-.94-2.06-.94 2.06-2.06.94zm-11 1L8.5 8.5l.94-2.06 2.06-.94-2.06-.94L8.5 2.5l-.94 2.06-2.06.94zm10 10l.94 2.06.94-2.06 2.06-.94-2.06-.94-.94-2.06-.94 2.06-2.06.94z\"/><path d=\"M17.41 7.96l-1.37-1.37c-.4-.4-.92-.59-1.43-.59-.52 0-1.04.2-1.43.59L10.3 9.45l-7.72 7.72c-.78.78-.78 2.05 0 2.83L4 21.41c.39.39.9.59 1.41.59.51 0 1.02-.2 1.41-.59l7.78-7.78 2.81-2.81c.8-.78.8-2.07 0-2.86zM5.41 20L4 18.59l7.72-7.72 1.47 1.35L5.41 20z\"/>\n",
              "  </svg>\n",
              "      </button>\n",
              "      \n",
              "  <style>\n",
              "    .colab-df-container {\n",
              "      display:flex;\n",
              "      flex-wrap:wrap;\n",
              "      gap: 12px;\n",
              "    }\n",
              "\n",
              "    .colab-df-convert {\n",
              "      background-color: #E8F0FE;\n",
              "      border: none;\n",
              "      border-radius: 50%;\n",
              "      cursor: pointer;\n",
              "      display: none;\n",
              "      fill: #1967D2;\n",
              "      height: 32px;\n",
              "      padding: 0 0 0 0;\n",
              "      width: 32px;\n",
              "    }\n",
              "\n",
              "    .colab-df-convert:hover {\n",
              "      background-color: #E2EBFA;\n",
              "      box-shadow: 0px 1px 2px rgba(60, 64, 67, 0.3), 0px 1px 3px 1px rgba(60, 64, 67, 0.15);\n",
              "      fill: #174EA6;\n",
              "    }\n",
              "\n",
              "    [theme=dark] .colab-df-convert {\n",
              "      background-color: #3B4455;\n",
              "      fill: #D2E3FC;\n",
              "    }\n",
              "\n",
              "    [theme=dark] .colab-df-convert:hover {\n",
              "      background-color: #434B5C;\n",
              "      box-shadow: 0px 1px 3px 1px rgba(0, 0, 0, 0.15);\n",
              "      filter: drop-shadow(0px 1px 2px rgba(0, 0, 0, 0.3));\n",
              "      fill: #FFFFFF;\n",
              "    }\n",
              "  </style>\n",
              "\n",
              "      <script>\n",
              "        const buttonEl =\n",
              "          document.querySelector('#df-a5b32d94-9b2c-4adf-b927-cd9ce35d55a5 button.colab-df-convert');\n",
              "        buttonEl.style.display =\n",
              "          google.colab.kernel.accessAllowed ? 'block' : 'none';\n",
              "\n",
              "        async function convertToInteractive(key) {\n",
              "          const element = document.querySelector('#df-a5b32d94-9b2c-4adf-b927-cd9ce35d55a5');\n",
              "          const dataTable =\n",
              "            await google.colab.kernel.invokeFunction('convertToInteractive',\n",
              "                                                     [key], {});\n",
              "          if (!dataTable) return;\n",
              "\n",
              "          const docLinkHtml = 'Like what you see? Visit the ' +\n",
              "            '<a target=\"_blank\" href=https://colab.research.google.com/notebooks/data_table.ipynb>data table notebook</a>'\n",
              "            + ' to learn more about interactive tables.';\n",
              "          element.innerHTML = '';\n",
              "          dataTable['output_type'] = 'display_data';\n",
              "          await google.colab.output.renderOutput(dataTable, element);\n",
              "          const docLink = document.createElement('div');\n",
              "          docLink.innerHTML = docLinkHtml;\n",
              "          element.appendChild(docLink);\n",
              "        }\n",
              "      </script>\n",
              "    </div>\n",
              "  </div>\n",
              "  "
            ]
          },
          "metadata": {},
          "execution_count": 14
        }
      ]
    },
    {
      "cell_type": "markdown",
      "source": [
        "On peut voir que plus un utilisateur a de photos, plus il est vue.\n",
        "Cette analyse est confirmée par le fait que les utilisateurs avec moin de 2 photos sont beaucoup moin vues."
      ],
      "metadata": {
        "id": "pCZ52rZ0YFJ8"
      }
    },
    {
      "cell_type": "markdown",
      "source": [
        "On test avec la quantité d'info dans sa bio"
      ],
      "metadata": {
        "id": "wK2orfHHtRNN"
      }
    },
    {
      "cell_type": "code",
      "source": [
        "df = pd.DataFrame(data=data, columns=['counts_details','counts_profileVisits'])\n",
        "seaborn.lineplot(x=df[\"counts_details\"], y=df[\"counts_profileVisits\"])\n",
        "plot.show(); \n"
      ],
      "metadata": {
        "colab": {
          "base_uri": "https://localhost:8080/",
          "height": 280
        },
        "id": "Dx3ePCEkXjgX",
        "outputId": "14abfc2e-c1d3-4d70-d633-cbecb6c6565c"
      },
      "execution_count": 16,
      "outputs": [
        {
          "output_type": "display_data",
          "data": {
            "text/plain": [
              "<Figure size 432x288 with 1 Axes>"
            ],
            "image/png": "[encoded data removed]"
          },
          "metadata": {
            "needs_background": "light"
          }
        }
      ]
    },
    {
      "cell_type": "markdown",
      "source": [
        "pas interessant"
      ],
      "metadata": {
        "id": "i7vm75N4tV94"
      }
    },
    {
      "cell_type": "markdown",
      "source": [
        "On teste avec l'age des users"
      ],
      "metadata": {
        "id": "JZkNqI83tknh"
      }
    },
    {
      "cell_type": "code",
      "source": [
        "df = pd.DataFrame(data=data, columns=['age','counts_profileVisits'])\n",
        "df[\"age\"].replace({27: 26}, inplace=True)\n",
        "seaborn.catplot(x=\"age\", y=\"counts_profileVisits\", data= df, kind=\"bar\", height=10)"
      ],
      "metadata": {
        "colab": {
          "base_uri": "https://localhost:8080/",
          "height": 746
        },
        "id": "IvJGCnOxaY9r",
        "outputId": "65b1aa1d-d6d7-43ee-9fad-97b55c2c61ec"
      },
      "execution_count": 136,
      "outputs": [
        {
          "output_type": "execute_result",
          "data": {
            "text/plain": [
              "<seaborn.axisgrid.FacetGrid at 0x7fab036d9e10>"
            ]
          },
          "metadata": {},
          "execution_count": 136
        },
        {
          "output_type": "display_data",
          "data": {
            "text/plain": [
              "<Figure size 720x720 with 1 Axes>"
            ],
            "image/png": "[encoded data removed]"
          },
          "metadata": {
            "needs_background": "light"
          }
        }
      ]
    },
    {
      "cell_type": "markdown",
      "source": [
        "Nous aurions envie de dire que plus l'age est bas chez une femme, plus elle est atractive, cependant les ecarts type important ne nous permettes pas de confirmer cette idée \n"
      ],
      "metadata": {
        "id": "EBIvC9C-j0B9"
      }
    },
    {
      "cell_type": "markdown",
      "source": [
        "Nous allons maintenant comparer le temps de connexion de chaque users:"
      ],
      "metadata": {
        "id": "44KqBQcgkGlf"
      }
    },
    {
      "cell_type": "code",
      "source": [
        "import time\n",
        "from datetime import datetime\n",
        "# df = pd.DataFrame(data=data)\n",
        "df = pd.DataFrame(data=data, columns=['counts_profileVisits','lastOnlineDate','lastOnlineTime'])\n",
        "df\n",
        "\n"
      ],
      "metadata": {
        "colab": {
          "base_uri": "https://localhost:8080/",
          "height": 424
        },
        "id": "KPjwMdghkFXn",
        "outputId": "56c4c936-f740-4b82-c52c-bd429cbca700"
      },
      "execution_count": 137,
      "outputs": [
        {
          "output_type": "execute_result",
          "data": {
            "text/plain": [
              "      counts_profileVisits        lastOnlineDate  lastOnlineTime\n",
              "0                     8279  2015-04-25T20:43:26Z    1.429995e+09\n",
              "1                      663  2015-04-26T09:19:35Z    1.430040e+09\n",
              "2                     1369  2015-04-06T14:24:07Z    1.428330e+09\n",
              "3                    22187  2015-04-07T11:21:01Z    1.428406e+09\n",
              "4                    35262  2015-04-06T14:25:20Z    1.428330e+09\n",
              "...                    ...                   ...             ...\n",
              "3987                  1003  2015-04-05T07:13:49Z    1.428218e+09\n",
              "3988                  6890  2015-04-19T11:00:59Z    1.429441e+09\n",
              "3989                  1157  2015-04-19T08:37:52Z    1.429433e+09\n",
              "3990                  1157  2015-04-19T08:37:52Z    1.429433e+09\n",
              "3991                  1157  2015-04-19T08:37:52Z    1.429433e+09\n",
              "\n",
              "[3992 rows x 3 columns]"
            ],
            "text/html": [
              "\n",
              "  <div id=\"df-935edfb0-c7bc-44c5-b522-bade711d7797\">\n",
              "    <div class=\"colab-df-container\">\n",
              "      <div>\n",
              "<style scoped>\n",
              "    .dataframe tbody tr th:only-of-type {\n",
              "        vertical-align: middle;\n",
              "    }\n",
              "\n",
              "    .dataframe tbody tr th {\n",
              "        vertical-align: top;\n",
              "    }\n",
              "\n",
              "    .dataframe thead th {\n",
              "        text-align: right;\n",
              "    }\n",
              "</style>\n",
              "<table border=\"1\" class=\"dataframe\">\n",
              "  <thead>\n",
              "    <tr style=\"text-align: right;\">\n",
              "      <th></th>\n",
              "      <th>counts_profileVisits</th>\n",
              "      <th>lastOnlineDate</th>\n",
              "      <th>lastOnlineTime</th>\n",
              "    </tr>\n",
              "  </thead>\n",
              "  <tbody>\n",
              "    <tr>\n",
              "      <th>0</th>\n",
              "      <td>8279</td>\n",
              "      <td>2015-04-25T20:43:26Z</td>\n",
              "      <td>1.429995e+09</td>\n",
              "    </tr>\n",
              "    <tr>\n",
              "      <th>1</th>\n",
              "      <td>663</td>\n",
              "      <td>2015-04-26T09:19:35Z</td>\n",
              "      <td>1.430040e+09</td>\n",
              "    </tr>\n",
              "    <tr>\n",
              "      <th>2</th>\n",
              "      <td>1369</td>\n",
              "      <td>2015-04-06T14:24:07Z</td>\n",
              "      <td>1.428330e+09</td>\n",
              "    </tr>\n",
              "    <tr>\n",
              "      <th>3</th>\n",
              "      <td>22187</td>\n",
              "      <td>2015-04-07T11:21:01Z</td>\n",
              "      <td>1.428406e+09</td>\n",
              "    </tr>\n",
              "    <tr>\n",
              "      <th>4</th>\n",
              "      <td>35262</td>\n",
              "      <td>2015-04-06T14:25:20Z</td>\n",
              "      <td>1.428330e+09</td>\n",
              "    </tr>\n",
              "    <tr>\n",
              "      <th>...</th>\n",
              "      <td>...</td>\n",
              "      <td>...</td>\n",
              "      <td>...</td>\n",
              "    </tr>\n",
              "    <tr>\n",
              "      <th>3987</th>\n",
              "      <td>1003</td>\n",
              "      <td>2015-04-05T07:13:49Z</td>\n",
              "      <td>1.428218e+09</td>\n",
              "    </tr>\n",
              "    <tr>\n",
              "      <th>3988</th>\n",
              "      <td>6890</td>\n",
              "      <td>2015-04-19T11:00:59Z</td>\n",
              "      <td>1.429441e+09</td>\n",
              "    </tr>\n",
              "    <tr>\n",
              "      <th>3989</th>\n",
              "      <td>1157</td>\n",
              "      <td>2015-04-19T08:37:52Z</td>\n",
              "      <td>1.429433e+09</td>\n",
              "    </tr>\n",
              "    <tr>\n",
              "      <th>3990</th>\n",
              "      <td>1157</td>\n",
              "      <td>2015-04-19T08:37:52Z</td>\n",
              "      <td>1.429433e+09</td>\n",
              "    </tr>\n",
              "    <tr>\n",
              "      <th>3991</th>\n",
              "      <td>1157</td>\n",
              "      <td>2015-04-19T08:37:52Z</td>\n",
              "      <td>1.429433e+09</td>\n",
              "    </tr>\n",
              "  </tbody>\n",
              "</table>\n",
              "<p>3992 rows × 3 columns</p>\n",
              "</div>\n",
              "      <button class=\"colab-df-convert\" onclick=\"convertToInteractive('df-935edfb0-c7bc-44c5-b522-bade711d7797')\"\n",
              "              title=\"Convert this dataframe to an interactive table.\"\n",
              "              style=\"display:none;\">\n",
              "        \n",
              "  <svg xmlns=\"http://www.w3.org/2000/svg\" height=\"24px\"viewBox=\"0 0 24 24\"\n",
              "       width=\"24px\">\n",
              "    <path d=\"M0 0h24v24H0V0z\" fill=\"none\"/>\n",
              "    <path d=\"M18.56 5.44l.94 2.06.94-2.06 2.06-.94-2.06-.94-.94-2.06-.94 2.06-2.06.94zm-11 1L8.5 8.5l.94-2.06 2.06-.94-2.06-.94L8.5 2.5l-.94 2.06-2.06.94zm10 10l.94 2.06.94-2.06 2.06-.94-2.06-.94-.94-2.06-.94 2.06-2.06.94z\"/><path d=\"M17.41 7.96l-1.37-1.37c-.4-.4-.92-.59-1.43-.59-.52 0-1.04.2-1.43.59L10.3 9.45l-7.72 7.72c-.78.78-.78 2.05 0 2.83L4 21.41c.39.39.9.59 1.41.59.51 0 1.02-.2 1.41-.59l7.78-7.78 2.81-2.81c.8-.78.8-2.07 0-2.86zM5.41 20L4 18.59l7.72-7.72 1.47 1.35L5.41 20z\"/>\n",
              "  </svg>\n",
              "      </button>\n",
              "      \n",
              "  <style>\n",
              "    .colab-df-container {\n",
              "      display:flex;\n",
              "      flex-wrap:wrap;\n",
              "      gap: 12px;\n",
              "    }\n",
              "\n",
              "    .colab-df-convert {\n",
              "      background-color: #E8F0FE;\n",
              "      border: none;\n",
              "      border-radius: 50%;\n",
              "      cursor: pointer;\n",
              "      display: none;\n",
              "      fill: #1967D2;\n",
              "      height: 32px;\n",
              "      padding: 0 0 0 0;\n",
              "      width: 32px;\n",
              "    }\n",
              "\n",
              "    .colab-df-convert:hover {\n",
              "      background-color: #E2EBFA;\n",
              "      box-shadow: 0px 1px 2px rgba(60, 64, 67, 0.3), 0px 1px 3px 1px rgba(60, 64, 67, 0.15);\n",
              "      fill: #174EA6;\n",
              "    }\n",
              "\n",
              "    [theme=dark] .colab-df-convert {\n",
              "      background-color: #3B4455;\n",
              "      fill: #D2E3FC;\n",
              "    }\n",
              "\n",
              "    [theme=dark] .colab-df-convert:hover {\n",
              "      background-color: #434B5C;\n",
              "      box-shadow: 0px 1px 3px 1px rgba(0, 0, 0, 0.15);\n",
              "      filter: drop-shadow(0px 1px 2px rgba(0, 0, 0, 0.3));\n",
              "      fill: #FFFFFF;\n",
              "    }\n",
              "  </style>\n",
              "\n",
              "      <script>\n",
              "        const buttonEl =\n",
              "          document.querySelector('#df-935edfb0-c7bc-44c5-b522-bade711d7797 button.colab-df-convert');\n",
              "        buttonEl.style.display =\n",
              "          google.colab.kernel.accessAllowed ? 'block' : 'none';\n",
              "\n",
              "        async function convertToInteractive(key) {\n",
              "          const element = document.querySelector('#df-935edfb0-c7bc-44c5-b522-bade711d7797');\n",
              "          const dataTable =\n",
              "            await google.colab.kernel.invokeFunction('convertToInteractive',\n",
              "                                                     [key], {});\n",
              "          if (!dataTable) return;\n",
              "\n",
              "          const docLinkHtml = 'Like what you see? Visit the ' +\n",
              "            '<a target=\"_blank\" href=https://colab.research.google.com/notebooks/data_table.ipynb>data table notebook</a>'\n",
              "            + ' to learn more about interactive tables.';\n",
              "          element.innerHTML = '';\n",
              "          dataTable['output_type'] = 'display_data';\n",
              "          await google.colab.output.renderOutput(dataTable, element);\n",
              "          const docLink = document.createElement('div');\n",
              "          docLink.innerHTML = docLinkHtml;\n",
              "          element.appendChild(docLink);\n",
              "        }\n",
              "      </script>\n",
              "    </div>\n",
              "  </div>\n",
              "  "
            ]
          },
          "metadata": {},
          "execution_count": 137
        }
      ]
    },
    {
      "cell_type": "code",
      "source": [
        "# df['new_time']=datetime.fromtimestamp()df['lastOnlineTime'][df['lastOnlineTime']]\n",
        "print(datetime.fromtimestamp(df['lastOnlineTime'][0]))\n",
        "\n",
        "df['lastOnlineDate'] = pd.to_datetime(df[\"lastOnlineDate\"], infer_datetime_format=True)\n",
        "df['lastOnlineTime'] = pd.to_datetime(df['lastOnlineTime'], unit='s')\n",
        "df.lastOnlineTime = df.lastOnlineTime.dt.tz_localize('UTC').dt.tz_convert('Europe/Brussels')\n",
        "\n",
        "df\n",
        "\n",
        "# seaborn.relplot(x=value, y=df[\"item_price\"], s=50, height=10)\n",
        "# plot.show();\n",
        "\n"
      ],
      "metadata": {
        "colab": {
          "base_uri": "https://localhost:8080/",
          "height": 441
        },
        "id": "ZT2l4llHMYu8",
        "outputId": "0b6603a3-ab47-47fe-e038-16e17e1bd6a6"
      },
      "execution_count": 138,
      "outputs": [
        {
          "output_type": "stream",
          "name": "stdout",
          "text": [
            "2015-04-25 20:43:26\n"
          ]
        },
        {
          "output_type": "execute_result",
          "data": {
            "text/plain": [
              "      counts_profileVisits      lastOnlineDate            lastOnlineTime\n",
              "0                     8279 2015-04-25 20:43:26 2015-04-25 22:43:26+02:00\n",
              "1                      663 2015-04-26 09:19:35 2015-04-26 11:19:35+02:00\n",
              "2                     1369 2015-04-06 14:24:07 2015-04-06 16:24:07+02:00\n",
              "3                    22187 2015-04-07 11:21:01 2015-04-07 13:21:01+02:00\n",
              "4                    35262 2015-04-06 14:25:20 2015-04-06 16:25:20+02:00\n",
              "...                    ...                 ...                       ...\n",
              "3987                  1003 2015-04-05 07:13:49 2015-04-05 09:13:49+02:00\n",
              "3988                  6890 2015-04-19 11:00:59 2015-04-19 13:00:59+02:00\n",
              "3989                  1157 2015-04-19 08:37:52 2015-04-19 10:37:52+02:00\n",
              "3990                  1157 2015-04-19 08:37:52 2015-04-19 10:37:52+02:00\n",
              "3991                  1157 2015-04-19 08:37:52 2015-04-19 10:37:52+02:00\n",
              "\n",
              "[3992 rows x 3 columns]"
            ],
            "text/html": [
              "\n",
              "  <div id=\"df-a724516c-2177-4a36-aba0-833108dc9fb3\">\n",
              "    <div class=\"colab-df-container\">\n",
              "      <div>\n",
              "<style scoped>\n",
              "    .dataframe tbody tr th:only-of-type {\n",
              "        vertical-align: middle;\n",
              "    }\n",
              "\n",
              "    .dataframe tbody tr th {\n",
              "        vertical-align: top;\n",
              "    }\n",
              "\n",
              "    .dataframe thead th {\n",
              "        text-align: right;\n",
              "    }\n",
              "</style>\n",
              "<table border=\"1\" class=\"dataframe\">\n",
              "  <thead>\n",
              "    <tr style=\"text-align: right;\">\n",
              "      <th></th>\n",
              "      <th>counts_profileVisits</th>\n",
              "      <th>lastOnlineDate</th>\n",
              "      <th>lastOnlineTime</th>\n",
              "    </tr>\n",
              "  </thead>\n",
              "  <tbody>\n",
              "    <tr>\n",
              "      <th>0</th>\n",
              "      <td>8279</td>\n",
              "      <td>2015-04-25 20:43:26</td>\n",
              "      <td>2015-04-25 22:43:26+02:00</td>\n",
              "    </tr>\n",
              "    <tr>\n",
              "      <th>1</th>\n",
              "      <td>663</td>\n",
              "      <td>2015-04-26 09:19:35</td>\n",
              "      <td>2015-04-26 11:19:35+02:00</td>\n",
              "    </tr>\n",
              "    <tr>\n",
              "      <th>2</th>\n",
              "      <td>1369</td>\n",
              "      <td>2015-04-06 14:24:07</td>\n",
              "      <td>2015-04-06 16:24:07+02:00</td>\n",
              "    </tr>\n",
              "    <tr>\n",
              "      <th>3</th>\n",
              "      <td>22187</td>\n",
              "      <td>2015-04-07 11:21:01</td>\n",
              "      <td>2015-04-07 13:21:01+02:00</td>\n",
              "    </tr>\n",
              "    <tr>\n",
              "      <th>4</th>\n",
              "      <td>35262</td>\n",
              "      <td>2015-04-06 14:25:20</td>\n",
              "      <td>2015-04-06 16:25:20+02:00</td>\n",
              "    </tr>\n",
              "    <tr>\n",
              "      <th>...</th>\n",
              "      <td>...</td>\n",
              "      <td>...</td>\n",
              "      <td>...</td>\n",
              "    </tr>\n",
              "    <tr>\n",
              "      <th>3987</th>\n",
              "      <td>1003</td>\n",
              "      <td>2015-04-05 07:13:49</td>\n",
              "      <td>2015-04-05 09:13:49+02:00</td>\n",
              "    </tr>\n",
              "    <tr>\n",
              "      <th>3988</th>\n",
              "      <td>6890</td>\n",
              "      <td>2015-04-19 11:00:59</td>\n",
              "      <td>2015-04-19 13:00:59+02:00</td>\n",
              "    </tr>\n",
              "    <tr>\n",
              "      <th>3989</th>\n",
              "      <td>1157</td>\n",
              "      <td>2015-04-19 08:37:52</td>\n",
              "      <td>2015-04-19 10:37:52+02:00</td>\n",
              "    </tr>\n",
              "    <tr>\n",
              "      <th>3990</th>\n",
              "      <td>1157</td>\n",
              "      <td>2015-04-19 08:37:52</td>\n",
              "      <td>2015-04-19 10:37:52+02:00</td>\n",
              "    </tr>\n",
              "    <tr>\n",
              "      <th>3991</th>\n",
              "      <td>1157</td>\n",
              "      <td>2015-04-19 08:37:52</td>\n",
              "      <td>2015-04-19 10:37:52+02:00</td>\n",
              "    </tr>\n",
              "  </tbody>\n",
              "</table>\n",
              "<p>3992 rows × 3 columns</p>\n",
              "</div>\n",
              "      <button class=\"colab-df-convert\" onclick=\"convertToInteractive('df-a724516c-2177-4a36-aba0-833108dc9fb3')\"\n",
              "              title=\"Convert this dataframe to an interactive table.\"\n",
              "              style=\"display:none;\">\n",
              "        \n",
              "  <svg xmlns=\"http://www.w3.org/2000/svg\" height=\"24px\"viewBox=\"0 0 24 24\"\n",
              "       width=\"24px\">\n",
              "    <path d=\"M0 0h24v24H0V0z\" fill=\"none\"/>\n",
              "    <path d=\"M18.56 5.44l.94 2.06.94-2.06 2.06-.94-2.06-.94-.94-2.06-.94 2.06-2.06.94zm-11 1L8.5 8.5l.94-2.06 2.06-.94-2.06-.94L8.5 2.5l-.94 2.06-2.06.94zm10 10l.94 2.06.94-2.06 2.06-.94-2.06-.94-.94-2.06-.94 2.06-2.06.94z\"/><path d=\"M17.41 7.96l-1.37-1.37c-.4-.4-.92-.59-1.43-.59-.52 0-1.04.2-1.43.59L10.3 9.45l-7.72 7.72c-.78.78-.78 2.05 0 2.83L4 21.41c.39.39.9.59 1.41.59.51 0 1.02-.2 1.41-.59l7.78-7.78 2.81-2.81c.8-.78.8-2.07 0-2.86zM5.41 20L4 18.59l7.72-7.72 1.47 1.35L5.41 20z\"/>\n",
              "  </svg>\n",
              "      </button>\n",
              "      \n",
              "  <style>\n",
              "    .colab-df-container {\n",
              "      display:flex;\n",
              "      flex-wrap:wrap;\n",
              "      gap: 12px;\n",
              "    }\n",
              "\n",
              "    .colab-df-convert {\n",
              "      background-color: #E8F0FE;\n",
              "      border: none;\n",
              "      border-radius: 50%;\n",
              "      cursor: pointer;\n",
              "      display: none;\n",
              "      fill: #1967D2;\n",
              "      height: 32px;\n",
              "      padding: 0 0 0 0;\n",
              "      width: 32px;\n",
              "    }\n",
              "\n",
              "    .colab-df-convert:hover {\n",
              "      background-color: #E2EBFA;\n",
              "      box-shadow: 0px 1px 2px rgba(60, 64, 67, 0.3), 0px 1px 3px 1px rgba(60, 64, 67, 0.15);\n",
              "      fill: #174EA6;\n",
              "    }\n",
              "\n",
              "    [theme=dark] .colab-df-convert {\n",
              "      background-color: #3B4455;\n",
              "      fill: #D2E3FC;\n",
              "    }\n",
              "\n",
              "    [theme=dark] .colab-df-convert:hover {\n",
              "      background-color: #434B5C;\n",
              "      box-shadow: 0px 1px 3px 1px rgba(0, 0, 0, 0.15);\n",
              "      filter: drop-shadow(0px 1px 2px rgba(0, 0, 0, 0.3));\n",
              "      fill: #FFFFFF;\n",
              "    }\n",
              "  </style>\n",
              "\n",
              "      <script>\n",
              "        const buttonEl =\n",
              "          document.querySelector('#df-a724516c-2177-4a36-aba0-833108dc9fb3 button.colab-df-convert');\n",
              "        buttonEl.style.display =\n",
              "          google.colab.kernel.accessAllowed ? 'block' : 'none';\n",
              "\n",
              "        async function convertToInteractive(key) {\n",
              "          const element = document.querySelector('#df-a724516c-2177-4a36-aba0-833108dc9fb3');\n",
              "          const dataTable =\n",
              "            await google.colab.kernel.invokeFunction('convertToInteractive',\n",
              "                                                     [key], {});\n",
              "          if (!dataTable) return;\n",
              "\n",
              "          const docLinkHtml = 'Like what you see? Visit the ' +\n",
              "            '<a target=\"_blank\" href=https://colab.research.google.com/notebooks/data_table.ipynb>data table notebook</a>'\n",
              "            + ' to learn more about interactive tables.';\n",
              "          element.innerHTML = '';\n",
              "          dataTable['output_type'] = 'display_data';\n",
              "          await google.colab.output.renderOutput(dataTable, element);\n",
              "          const docLink = document.createElement('div');\n",
              "          docLink.innerHTML = docLinkHtml;\n",
              "          element.appendChild(docLink);\n",
              "        }\n",
              "      </script>\n",
              "    </div>\n",
              "  </div>\n",
              "  "
            ]
          },
          "metadata": {},
          "execution_count": 138
        }
      ]
    },
    {
      "cell_type": "markdown",
      "source": [
        "malheureusement les colonnes concernant les temps de connexions en sont pas interessantes car faussées."
      ],
      "metadata": {
        "id": "xvutMnzuR3Ss"
      }
    },
    {
      "cell_type": "code",
      "source": [
        "df = pd.DataFrame(data=data, columns=['counts_kisses','counts_profileVisits','age','country','counts_details','counts_pictures','lang_count','verified','distance'])\n",
        "corr=df.corr()\n",
        "f, ax = plot.subplots(figsize=(20,5))\n",
        "seaborn.heatmap(corr, annot=True, ax =ax)\n",
        "plot.savefig('heatmapEX1.png')"
      ],
      "metadata": {
        "colab": {
          "base_uri": "https://localhost:8080/",
          "height": 325
        },
        "id": "md2vYpf_R-R5",
        "outputId": "f2d998d0-4b97-4686-fb00-11077a534c87"
      },
      "execution_count": 139,
      "outputs": [
        {
          "output_type": "display_data",
          "data": {
            "text/plain": [
              "<Figure size 1440x360 with 2 Axes>"
            ],
            "image/png": "[encoded data removed]"
          },
          "metadata": {
            "needs_background": "light"
          }
        }
      ]
    }
  ]
}